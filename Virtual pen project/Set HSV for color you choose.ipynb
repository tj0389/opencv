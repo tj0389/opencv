{
 "cells": [
  {
   "cell_type": "code",
   "execution_count": 1,
   "metadata": {},
   "outputs": [],
   "source": [
    "import cv2\n",
    "import numpy as np\n",
    "from utils import stackImages"
   ]
  },
  {
   "cell_type": "code",
   "execution_count": 2,
   "metadata": {},
   "outputs": [],
   "source": [
    "def empty(a):\n",
    "    pass\n",
    "my_color=[[0,67,41,86,255,154],\n",
    "          [0,133,117,102,236,255],\n",
    "          [170,118,62,179,255,255]]\n",
    "          #[130,0,0,179,255,255]\n",
    "colormap=[[204,0,204],\n",
    "           [0,102,0],\n",
    "           [255,0,0]]\n",
    "mypoints=[]"
   ]
  },
  {
   "cell_type": "code",
   "execution_count": 3,
   "metadata": {},
   "outputs": [],
   "source": [
    "def trackbar():\n",
    "    cv2.namedWindow(\"TrackBars\")\n",
    "    cv2.resizeWindow(\"TrackBars\",640,240)\n",
    "    cv2.createTrackbar(\"Hue Min\",\"TrackBars\",0,179,empty)\n",
    "    cv2.createTrackbar(\"Hue Max\",\"TrackBars\",179,179,empty)\n",
    "    cv2.createTrackbar(\"Sat Min\",\"TrackBars\",0,255,empty)\n",
    "    cv2.createTrackbar(\"Sat Max\",\"TrackBars\",255,255,empty)\n",
    "    cv2.createTrackbar(\"Val Min\",\"TrackBars\",0,255,empty)\n",
    "    cv2.createTrackbar(\"Val Max\",\"TrackBars\",255,255,empty)"
   ]
  },
  {
   "cell_type": "code",
   "execution_count": 4,
   "metadata": {},
   "outputs": [],
   "source": [
    "def track(img):\n",
    "    imgHSV=cv2.cvtColor(img,cv2.COLOR_BGR2HSV)\n",
    "    h_min=cv2.getTrackbarPos(\"Hue Min\",\"TrackBars\")\n",
    "    h_max=cv2.getTrackbarPos(\"Hue Max\",\"TrackBars\")\n",
    "    s_min=cv2.getTrackbarPos(\"Sat Min\",\"TrackBars\")\n",
    "    s_max=cv2.getTrackbarPos(\"Sat Max\",\"TrackBars\")\n",
    "    v_min=cv2.getTrackbarPos(\"Val Min\",\"TrackBars\")\n",
    "    v_max=cv2.getTrackbarPos(\"Val Max\",\"TrackBars\")\n",
    "    #print(h_min,h_max,v_min,v_max,s_min,s_max)\n",
    "    lower=np.array([h_min,s_min,v_min])\n",
    "    upper=np.array([h_max,s_max,v_max])\n",
    "    mask=cv2.inRange(imgHSV,lower,upper)\n",
    "    img_result=cv2.bitwise_and(img,img,mask=mask)\n",
    "    nw_img=stackImages(0.4,([img,imgHSV],\n",
    "                            [mask,img_result]))\n",
    "    return nw_img"
   ]
  },
  {
   "cell_type": "code",
   "execution_count": 5,
   "metadata": {},
   "outputs": [],
   "source": [
    "def findcolor(img,my_color):\n",
    "    imgHSV=cv2.cvtColor(img,cv2.COLOR_BGR2HSV)\n",
    "    newpoint=[]\n",
    "    count=0\n",
    "    for color in my_color:\n",
    "        lower=np.array(color[0:3])\n",
    "        upper=np.array(color[3:6])\n",
    "        mask=cv2.inRange(imgHSV,lower,upper)\n",
    "        x,y=get_contour(mask)\n",
    "        cv2.circle(imgresult,(x,y),10,colormap[count],cv2.FILLED)\n",
    "        if x!=0 and y!=0:\n",
    "            newpoint.append([x,y,count])\n",
    "        count+=1\n",
    "    return newpoint"
   ]
  },
  {
   "cell_type": "code",
   "execution_count": 6,
   "metadata": {},
   "outputs": [],
   "source": [
    "def draw(mypoints,colormap):\n",
    "    for point in mypoints:\n",
    "        cv2.circle(imgresult,(point[0],point[1]),15,colormap[point[2]],cv2.FILLED)"
   ]
  },
  {
   "cell_type": "code",
   "execution_count": 7,
   "metadata": {},
   "outputs": [],
   "source": [
    "def stackImages(scale,imgArray):\n",
    "    rows = len(imgArray)\n",
    "    cols = len(imgArray[0])\n",
    "    rowsAvailable = isinstance(imgArray[0], list)\n",
    "    width = imgArray[0][0].shape[1]\n",
    "    height = imgArray[0][0].shape[0]\n",
    "    if rowsAvailable:\n",
    "        for x in range ( 0, rows):\n",
    "            for y in range(0, cols):\n",
    "                if imgArray[x][y].shape[:2] == imgArray[0][0].shape [:2]:\n",
    "                    imgArray[x][y] = cv2.resize(imgArray[x][y], (0, 0), None, scale, scale)\n",
    "                else:\n",
    "                    imgArray[x][y] = cv2.resize(imgArray[x][y], (imgArray[0][0].shape[1], imgArray[0][0].shape[0]), None, scale, scale)\n",
    "                if len(imgArray[x][y].shape) == 2: imgArray[x][y]= cv2.cvtColor( imgArray[x][y], cv2.COLOR_GRAY2BGR)\n",
    "        imageBlank = np.zeros((height, width, 3), np.uint8)\n",
    "        hor = [imageBlank]*rows\n",
    "        hor_con = [imageBlank]*rows\n",
    "        for x in range(0, rows):\n",
    "            hor[x] = np.hstack(imgArray[x])\n",
    "        ver = np.vstack(hor)\n",
    "    else:\n",
    "        for x in range(0, rows):\n",
    "            if imgArray[x].shape[:2] == imgArray[0].shape[:2]:\n",
    "                imgArray[x] = cv2.resize(imgArray[x], (0, 0), None, scale, scale)\n",
    "            else:\n",
    "                imgArray[x] = cv2.resize(imgArray[x], (imgArray[0].shape[1], imgArray[0].shape[0]), None,scale, scale)\n",
    "            if len(imgArray[x].shape) == 2: imgArray[x] = cv2.cvtColor(imgArray[x], cv2.COLOR_GRAY2BGR)\n",
    "        hor= np.hstack(imgArray)\n",
    "        ver = hor\n",
    "    return ver"
   ]
  },
  {
   "cell_type": "code",
   "execution_count": 8,
   "metadata": {},
   "outputs": [],
   "source": [
    "def get_contour(img):\n",
    "    contours, hierarchy = cv2.findContours(img,cv2.RETR_EXTERNAL,cv2.CHAIN_APPROX_NONE) \n",
    "    x,y,w,h=0,0,0,0\n",
    "    for cnt in contours:\n",
    "        area=cv2.contourArea(cnt)\n",
    "        if (area>500):\n",
    "            #cv2.drawContours(imgresult,cnt,-1,(255,0,0),5)\n",
    "            peri=cv2.arcLength(cnt,True)\n",
    "            approx=cv2.approxPolyDP(cnt,0.1*peri,True)      ## return coordinates of points in contour \n",
    "            x,y,w,h=cv2.boundingRect(approx)                 ## bound retangle accros contour or object \n",
    "            #cv2.rectangle(img_contour,(x,y),(w,h),(255,0,255),4)\n",
    "    return x+w//2,y"
   ]
  },
  {
   "cell_type": "code",
   "execution_count": 9,
   "metadata": {},
   "outputs": [],
   "source": [
    "cap=cv2.VideoCapture(0)\n",
    "trackbar()"
   ]
  },
  {
   "cell_type": "code",
   "execution_count": 10,
   "metadata": {},
   "outputs": [],
   "source": [
    "while True:\n",
    "    ret,frame=cap.read()\n",
    "    \n",
    "    if ret==False:\n",
    "        continue\n",
    "    \n",
    "    imgresult=frame.copy()\n",
    "    nw=track(frame)\n",
    "    newpoint=findcolor(frame,my_color)\n",
    "    if len(newpoint)!=0:\n",
    "        for newp in newpoint:\n",
    "            mypoints.append(newp)\n",
    "    if len(mypoints)!=0:\n",
    "        draw(mypoints,colormap)\n",
    "        \n",
    "    #cv2.imshow(\"Original\",imgresult)\n",
    "    cv2.imshow(\"Set Color\",nw)\n",
    "    \n",
    "    key_pressed=cv2.waitKey(1) & 0xFF     #as we want to return 64 bit and wait will retrun oly 32 bit\n",
    "    if key_pressed == ord('q'):  #ord return ascii value  \n",
    "        break\n",
    "        \n",
    "cap.release()\n",
    "cv2.destroyAllWindows()"
   ]
  },
  {
   "cell_type": "code",
   "execution_count": null,
   "metadata": {},
   "outputs": [],
   "source": []
  },
  {
   "cell_type": "code",
   "execution_count": null,
   "metadata": {},
   "outputs": [],
   "source": []
  }
 ],
 "metadata": {
  "kernelspec": {
   "display_name": "Python 3",
   "language": "python",
   "name": "python3"
  },
  "language_info": {
   "codemirror_mode": {
    "name": "ipython",
    "version": 3
   },
   "file_extension": ".py",
   "mimetype": "text/x-python",
   "name": "python",
   "nbconvert_exporter": "python",
   "pygments_lexer": "ipython3",
   "version": "3.8.3"
  }
 },
 "nbformat": 4,
 "nbformat_minor": 4
}
