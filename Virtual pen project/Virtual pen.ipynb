{
 "cells": [
  {
   "cell_type": "code",
   "execution_count": 1,
   "metadata": {},
   "outputs": [],
   "source": [
    "import cv2\n",
    "import numpy as np\n",
    "from utils import stackImages"
   ]
  },
  {
   "cell_type": "code",
   "execution_count": 2,
   "metadata": {},
   "outputs": [],
   "source": [
    "def empty(a):\n",
    "    pass\n",
    "\n",
    "## set HSV using trackbars\n",
    "my_color=[[0,67,41,86,255,154],\n",
    "          [0,133,117,102,236,255],\n",
    "          [170,118,62,179,255,255]]\n",
    "\n",
    "## set RGB for colors\n",
    "colormap=[[204,0,204],          \n",
    "           [0,102,0],\n",
    "           [255,0,0]]\n",
    "\n",
    "mypoints=[]"
   ]
  },
  {
   "cell_type": "code",
   "execution_count": 3,
   "metadata": {},
   "outputs": [],
   "source": [
    "def findcolor(img,my_color):\n",
    "    imgHSV=cv2.cvtColor(img,cv2.COLOR_BGR2HSV)\n",
    "    newpoint=[]\n",
    "    count=0\n",
    "    for color in my_color:\n",
    "        lower=np.array(color[0:3])\n",
    "        upper=np.array(color[3:6])\n",
    "        mask=cv2.inRange(imgHSV,lower,upper)\n",
    "        x,y=get_contour(mask)\n",
    "        cv2.circle(imgresult,(x,y),10,colormap[count],cv2.FILLED)\n",
    "        if x!=0 and y!=0:\n",
    "            newpoint.append([x,y,count])\n",
    "        count+=1\n",
    "    return newpoint"
   ]
  },
  {
   "cell_type": "code",
   "execution_count": 4,
   "metadata": {},
   "outputs": [],
   "source": [
    "def draw(mypoints,colormap):\n",
    "    for point in mypoints:\n",
    "        cv2.circle(imgresult,(point[0],point[1]),15,colormap[point[2]],cv2.FILLED)"
   ]
  },
  {
   "cell_type": "code",
   "execution_count": 5,
   "metadata": {},
   "outputs": [],
   "source": [
    "def get_contour(img):\n",
    "    contours, hierarchy = cv2.findContours(img,cv2.RETR_EXTERNAL,cv2.CHAIN_APPROX_NONE) \n",
    "    x,y,w,h=0,0,0,0\n",
    "    for cnt in contours:\n",
    "        area=cv2.contourArea(cnt)\n",
    "        if (area>500):\n",
    "            #cv2.drawContours(imgresult,cnt,-1,(255,0,0),5)\n",
    "            peri=cv2.arcLength(cnt,True)\n",
    "            approx=cv2.approxPolyDP(cnt,0.1*peri,True)      ## return coordinates of points in contour \n",
    "            x,y,w,h=cv2.boundingRect(approx)                 ## bound retangle accros contour or object \n",
    "            #cv2.rectangle(img_contour,(x,y),(w,h),(255,0,255),4)\n",
    "    return x+w//2,y"
   ]
  },
  {
   "cell_type": "code",
   "execution_count": 6,
   "metadata": {},
   "outputs": [],
   "source": [
    "cap=cv2.VideoCapture(0)\n",
    "\n",
    "while True:\n",
    "    ret,frame=cap.read()\n",
    "    \n",
    "    if ret==False:\n",
    "        continue\n",
    "    \n",
    "    imgresult=frame.copy()\n",
    "    newpoint=findcolor(frame,my_color)\n",
    "    if len(newpoint)!=0:\n",
    "        for newp in newpoint:\n",
    "            mypoints.append(newp)\n",
    "    if len(mypoints)!=0:\n",
    "        draw(mypoints,colormap)\n",
    "        \n",
    "    cv2.imshow(\"Original\",imgresult)\n",
    "    \n",
    "    key_pressed=cv2.waitKey(1) & 0xFF     #as we want to return 64 bit and wait will retrun oly 32 bit\n",
    "    if key_pressed == ord('q'):  #ord return ascii value  \n",
    "        break\n",
    "        \n",
    "cap.release()\n",
    "cv2.destroyAllWindows()"
   ]
  },
  {
   "cell_type": "code",
   "execution_count": null,
   "metadata": {},
   "outputs": [],
   "source": []
  },
  {
   "cell_type": "code",
   "execution_count": null,
   "metadata": {},
   "outputs": [],
   "source": []
  }
 ],
 "metadata": {
  "kernelspec": {
   "display_name": "Python 3",
   "language": "python",
   "name": "python3"
  },
  "language_info": {
   "codemirror_mode": {
    "name": "ipython",
    "version": 3
   },
   "file_extension": ".py",
   "mimetype": "text/x-python",
   "name": "python",
   "nbconvert_exporter": "python",
   "pygments_lexer": "ipython3",
   "version": "3.8.3"
  }
 },
 "nbformat": 4,
 "nbformat_minor": 4
}
