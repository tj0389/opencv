{
 "cells": [
  {
   "cell_type": "code",
   "execution_count": 1,
   "metadata": {},
   "outputs": [],
   "source": [
    "import cv2\n",
    "import numpy as np\n",
    "from utils import stackImages,reorder      # in my local pc"
   ]
  },
  {
   "cell_type": "code",
   "execution_count": 2,
   "metadata": {},
   "outputs": [],
   "source": [
    "img=cv2.imread(\"test.jpg\")\n",
    "widthImg=img.shape[1]\n",
    "heightImg=img.shape[0]"
   ]
  },
  {
   "cell_type": "code",
   "execution_count": 3,
   "metadata": {},
   "outputs": [],
   "source": [
    "img_blank=np.zeros_like(img)\n",
    "gray=cv2.cvtColor(img,cv2.COLOR_BGR2GRAY)\n",
    "img_threshold=cv2.adaptiveThreshold(gray,255,cv2.ADAPTIVE_THRESH_MEAN_C,cv2.THRESH_BINARY_INV,15,10)\n",
    "# img_blur=cv2.GaussianBlur(gray,(7,7),0)\n",
    "# img_canny=cv2.Canny(img_blur,15,15)            # Canny edge detector\n",
    "# kernal=np.ones((5,5),dtype=np.uint8)                           ## thicknned the edge by increase iteration using dialation\n",
    "# img_dialated=cv2.dilate(img_canny,kernal,iterations=2)\n",
    "# img_erode=cv2.erode(img_dialated,kernal,iterations=2)             ## thinned the edge by increase iteration using erodation"
   ]
  },
  {
   "cell_type": "code",
   "execution_count": 4,
   "metadata": {},
   "outputs": [],
   "source": [
    "img_contour=img.copy()\n",
    "\n",
    "def get_contour(img):\n",
    "    biggest=np.array([])\n",
    "    maxArea=0\n",
    "    contours, hierarchy = cv2.findContours(img,cv2.RETR_EXTERNAL,cv2.CHAIN_APPROX_NONE) \n",
    "    for cnt in contours:\n",
    "        area=cv2.contourArea(cnt)\n",
    "        if (area>5000):\n",
    "            cv2.drawContours(img_contour,cnt,-1,(255,0,0),5)\n",
    "            peri=cv2.arcLength(cnt,True)\n",
    "            approx=cv2.approxPolyDP(cnt,0.02*peri,True)      ## return coordinates of points in contour \n",
    "            if area>maxArea and len(approx)==4:\n",
    "                biggest=approx\n",
    "                maxArea=area\n",
    "            x,y,w,h=cv2.boundingRect(approx)                 ## bound retangle accros contour or object \n",
    "            #cv2.rectangle(img_contour,(x,y),(w,h),(255,0,255),4)\n",
    "        cv2.drawContours(img_contour,cnt,-1,(255,0,0),5)\n",
    "    cv2.drawContours(img_contour,biggest,-1,(255,0,255),30)\n",
    "    return biggest\n",
    "\n",
    "biggest=get_contour(img_threshold)       ## may also use img_erode to get contours"
   ]
  },
  {
   "cell_type": "code",
   "execution_count": 5,
   "metadata": {},
   "outputs": [],
   "source": [
    "if biggest.size!=0:\n",
    "    biggest=reorder(biggest)\n",
    "    try:\n",
    "        pts1 = np.float32(biggest) # PREPARE POINTS FOR WARP\n",
    "        pts2 =  np.float32([[0, 0],[widthImg, 0], [0, heightImg],[widthImg, heightImg]]) # PREPARE POINTS FOR WARP\n",
    "        matrix = cv2.getPerspectiveTransform(pts1, pts2)  # GER\n",
    "        imgWarpColored = img.copy()\n",
    "        imgWarpColored = cv2.warpPerspective(img, matrix, (widthImg, heightImg))\n",
    "    except:\n",
    "        print(\"Images are of Bad quality......Show another image......\")\n",
    "        imgWarpColored = img.copy()\n",
    "imgWarpColored=imgWarpColored[5:imgWarpColored.shape[0]-5,5:imgWarpColored.shape[1]-5]\n",
    "imgWarpColored=cv2.resize(imgWarpColored,(heightImg,widthImg))"
   ]
  },
  {
   "cell_type": "code",
   "execution_count": 6,
   "metadata": {},
   "outputs": [],
   "source": [
    "img_stack=stackImages(0.5,([img,img_threshold,imgWarpColored]))\n",
    "cv2.imshow('Image',img_stack)\n",
    "cv2.waitKey(0)\n",
    "cv2.destroyAllWindows()"
   ]
  },
  {
   "cell_type": "code",
   "execution_count": null,
   "metadata": {},
   "outputs": [],
   "source": []
  },
  {
   "cell_type": "code",
   "execution_count": null,
   "metadata": {},
   "outputs": [],
   "source": []
  },
  {
   "cell_type": "code",
   "execution_count": null,
   "metadata": {},
   "outputs": [],
   "source": []
  },
  {
   "cell_type": "code",
   "execution_count": null,
   "metadata": {},
   "outputs": [],
   "source": []
  }
 ],
 "metadata": {
  "kernelspec": {
   "display_name": "Python 3",
   "language": "python",
   "name": "python3"
  },
  "language_info": {
   "codemirror_mode": {
    "name": "ipython",
    "version": 3
   },
   "file_extension": ".py",
   "mimetype": "text/x-python",
   "name": "python",
   "nbconvert_exporter": "python",
   "pygments_lexer": "ipython3",
   "version": "3.8.3"
  }
 },
 "nbformat": 4,
 "nbformat_minor": 4
}
