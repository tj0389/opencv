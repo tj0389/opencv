{
 "cells": [
  {
   "cell_type": "code",
   "execution_count": 1,
   "metadata": {},
   "outputs": [],
   "source": [
    "import cv2\n",
    "import numpy as np\n",
    "from keras.models import load_model\n",
    "import matplotlib.pyplot as plt\n",
    "from utils import stackImages"
   ]
  },
  {
   "cell_type": "code",
   "execution_count": 2,
   "metadata": {},
   "outputs": [],
   "source": [
    "def get_contour(img):\n",
    "    biggest=np.array([])\n",
    "    maxArea=0\n",
    "    contours, hierarchy = cv2.findContours(img,cv2.RETR_EXTERNAL,cv2.CHAIN_APPROX_NONE) \n",
    "    for cnt in contours:\n",
    "        area=cv2.contourArea(cnt)\n",
    "        if (area>5000):\n",
    "            #cv2.drawContours(img_result,cnt,-1,(255,0,0),5)\n",
    "            peri=cv2.arcLength(cnt,True)\n",
    "            approx=cv2.approxPolyDP(cnt,0.09*peri,True)      ## return coordinates of points in contour \n",
    "            if area>maxArea and len(approx)==4:\n",
    "                biggest=approx\n",
    "                maxArea=area\n",
    "            x,y,w,h=cv2.boundingRect(approx)                 ## bound retangle accros contour or object \n",
    "            #cv2.rectangle(img_contour,(x,y),(w,h),(255,0,255),4)\n",
    "        #cv2.drawContours(img_contour,cnt,-1,(255,0,0),5)\n",
    "    cv2.drawContours(img_result,biggest,-1,(255,0,255),30)\n",
    "    return biggest"
   ]
  },
  {
   "cell_type": "code",
   "execution_count": 3,
   "metadata": {},
   "outputs": [],
   "source": [
    "def image_class(img):\n",
    "    gray=cv2.cvtColor(img,cv2.COLOR_BGR2GRAY)\n",
    "    img_blur=cv2.GaussianBlur(gray,(7,7),0)\n",
    "    img_canny=cv2.Canny(img_blur,100,100)            # Canny edge detector\n",
    "    kernal=np.ones((5,5),dtype=np.uint8)                           ## thicknned the edge by increase iteration using dialation\n",
    "    img_dialated=cv2.dilate(img_canny,kernal,iterations=2)\n",
    "    img_erode=cv2.erode(img_dialated,kernal,iterations=2)             ## thinned the edge by increase iteration using erodation\n",
    "    get_contour(img_dialated)\n",
    "    return img_blur,img_canny,img_dialated,img_erode"
   ]
  },
  {
   "cell_type": "code",
   "execution_count": 4,
   "metadata": {},
   "outputs": [],
   "source": [
    "def reorder(myPoints):\n",
    "    myPoints = myPoints.reshape((4, 2))\n",
    "    myPointsNew = np.zeros((4, 1, 2), dtype=np.int32)\n",
    "    add = myPoints.sum(1)\n",
    "    myPointsNew[0] = myPoints[np.argmin(add)]\n",
    "    myPointsNew[3] =myPoints[np.argmax(add)]\n",
    "    diff = np.diff(myPoints, axis=1)\n",
    "    myPointsNew[1] =myPoints[np.argmin(diff)]\n",
    "    myPointsNew[2] = myPoints[np.argmax(diff)]\n",
    "    return myPointsNew"
   ]
  },
  {
   "cell_type": "code",
   "execution_count": 5,
   "metadata": {},
   "outputs": [],
   "source": [
    "def findcolor(img,color):\n",
    "    gray=cv2.cvtColor(img,cv2.COLOR_BGR2GRAY)\n",
    "    imgHSV=cv2.cvtColor(img,cv2.COLOR_BGR2HSV)\n",
    "    lower=np.array(color[0:3])\n",
    "    upper=np.array(color[3:6])\n",
    "    mask=cv2.inRange(imgHSV,lower,upper)\n",
    "    biggest=get_contour(mask)\n",
    "    imgwarpcolored=np.zeros_like(gray)\n",
    "    if biggest.size!=0:\n",
    "        biggest=reorder(biggest)\n",
    "        pts1=np.float32(biggest)\n",
    "        pts2=np.float32([[0,0],[widthImg,0],[0,heightImg],[widthImg,heightImg]])\n",
    "        matrix=cv2.getPerspectiveTransform(pts1,pts2)\n",
    "        imgwarpcolored=cv2.warpPerspective(img,matrix,(widthImg,heightImg))\n",
    "        imgwarpcolored=cv2.cvtColor(imgwarpcolored,cv2.COLOR_BGR2GRAY)\n",
    "    return imgwarpcolored"
   ]
  },
  {
   "cell_type": "code",
   "execution_count": null,
   "metadata": {},
   "outputs": [],
   "source": []
  }
 ],
 "metadata": {
  "kernelspec": {
   "display_name": "Python 3",
   "language": "python",
   "name": "python3"
  },
  "language_info": {
   "codemirror_mode": {
    "name": "ipython",
    "version": 3
   },
   "file_extension": ".py",
   "mimetype": "text/x-python",
   "name": "python",
   "nbconvert_exporter": "python",
   "pygments_lexer": "ipython3",
   "version": "3.8.3"
  }
 },
 "nbformat": 4,
 "nbformat_minor": 4
}
